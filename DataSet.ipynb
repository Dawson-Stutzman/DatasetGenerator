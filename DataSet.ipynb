{
  "cells": [
    {
      "cell_type": "markdown",
      "metadata": {
        "id": "view-in-github",
        "colab_type": "text"
      },
      "source": [
        "<a href=\"https://colab.research.google.com/github/Dawson-Stutzman/DatasetGenerator/blob/main/DataSet.ipynb\" target=\"_parent\"><img src=\"https://colab.research.google.com/assets/colab-badge.svg\" alt=\"Open In Colab\"/></a>"
      ]
    },
    {
      "cell_type": "markdown",
      "metadata": {
        "id": "Szsa0n4hDQbt"
      },
      "source": [
        "# General Setup"
      ]
    },
    {
      "cell_type": "code",
      "execution_count": null,
      "metadata": {
        "id": "Jdd42Q8fCM9g",
        "colab": {
          "base_uri": "https://localhost:8080/"
        },
        "outputId": "0ace66b0-9e75-455e-be66-3bf5a9288b50"
      },
      "outputs": [
        {
          "output_type": "stream",
          "name": "stdout",
          "text": [
            "Collecting pyspark\n",
            "  Downloading pyspark-3.5.0.tar.gz (316.9 MB)\n",
            "\u001b[2K     \u001b[90m━━━━━━━━━━━━━━━━━━━━━━━━━━━━━━━━━━━━━━━━\u001b[0m \u001b[32m316.9/316.9 MB\u001b[0m \u001b[31m2.0 MB/s\u001b[0m eta \u001b[36m0:00:00\u001b[0m\n",
            "\u001b[?25h  Preparing metadata (setup.py) ... \u001b[?25l\u001b[?25hdone\n",
            "Requirement already satisfied: py4j==0.10.9.7 in /usr/local/lib/python3.10/dist-packages (from pyspark) (0.10.9.7)\n",
            "Building wheels for collected packages: pyspark\n",
            "  Building wheel for pyspark (setup.py) ... \u001b[?25l\u001b[?25hdone\n",
            "  Created wheel for pyspark: filename=pyspark-3.5.0-py2.py3-none-any.whl size=317425345 sha256=d53478905cddff2d4e2a8c8a778ca89fabc153879e340d6f989cd45cd7957804\n",
            "  Stored in directory: /root/.cache/pip/wheels/41/4e/10/c2cf2467f71c678cfc8a6b9ac9241e5e44a01940da8fbb17fc\n",
            "Successfully built pyspark\n",
            "Installing collected packages: pyspark\n",
            "Successfully installed pyspark-3.5.0\n"
          ]
        },
        {
          "output_type": "stream",
          "name": "stderr",
          "text": [
            "/usr/local/lib/python3.10/dist-packages/pyspark/sql/context.py:113: FutureWarning: Deprecated in 3.0.0. Use SparkSession.builder.getOrCreate() instead.\n",
            "  warnings.warn(\n"
          ]
        }
      ],
      "source": [
        "!pip install pyspark\n",
        "#from google.colab import drive\n",
        "#drive.mount('/content/gdrive')\n",
        "import numpy as np\n",
        "import matplotlib.pyplot as plt\n",
        "from typing import Optional\n",
        "from pyspark.sql.types import *\n",
        "from numpy.lib import math as M\n",
        "from pyspark import SparkConf, SparkContext\n",
        "from pyspark.sql import SparkSession, Window, SQLContext\n",
        "from pyspark.sql import functions as F\n",
        "import os\n",
        "import random\n",
        "os.environ[\"PYARROW_IGNORE_TIMEZONE\"] = \"1\"\n",
        "from pyspark.sql.functions import udf, struct, when, exp, pow, lit, least, round as sqlround, sum as sqlsum\n",
        "# round and sum are default functions, so the sqlsum and sqlround names are needed to differentiate\n",
        "conf = SparkConf().setAppName(\"AppGen\")\n",
        "sc=SparkContext(conf=conf)\n",
        "sc.setLogLevel(\"WARN\")\n",
        "sqlContext = SQLContext(sc)"
      ]
    },
    {
      "cell_type": "markdown",
      "metadata": {
        "id": "ka3EZUXZ6FDN"
      },
      "source": [
        "# Censor Equation Definitions (Needs events fitted)"
      ]
    },
    {
      "cell_type": "code",
      "execution_count": null,
      "metadata": {
        "id": "B7o6AnTcTh5n"
      },
      "outputs": [],
      "source": [
        "def Time_Dependency(t: float, c: int, beta: float):\n",
        "  return ((t**2) * M.exp((c + (beta/2) )* t))\n",
        "\n",
        "class EventObj:\n",
        "  def __init__(self, alpha=float, dose_Beta=float, smoke_Beta=float, econ_Beta=float, sex_Beta=float, c=float):\n",
        "    self.alpha = alpha\n",
        "    self.dose_Beta = dose_Beta\n",
        "    self.smoke_Beta = smoke_Beta\n",
        "    self.econ_Beta = econ_Beta\n",
        "    self.sex_Beta = sex_Beta\n",
        "    self.c = c\n",
        "\n",
        "def Event(t0, dose, smoke, econ, sex, event_params=EventObj):\n",
        "  t1 = t0+1\n",
        "  u = np.log(random.uniform(0, 1))\n",
        "  cov = (event_params.c + (event_params.dose_Beta/2) ) # cov represents c'\n",
        "  A = event_params.alpha * M.exp((event_params.dose_Beta * dose)+( event_params.smoke_Beta * smoke)+(event_params.econ_Beta * econ)+(event_params.sex_Beta * sex))\n",
        "  F0 = ((cov*t0 * (cov*t0 - 2) + 2) * M.exp(t0 * cov)) / M.pow(cov, 3)\n",
        "  F1 = ((cov*t1 * (cov*t1 - 2) + 2) * M.exp(t1 * cov)) / M.pow(cov, 3)\n",
        "  x = (F1 - F0)-(-u / A)\n",
        "  tl = t0\n",
        "  th = t1\n",
        "  Fl = ((cov*tl * (cov*tl - 2) + 2) * M.exp(tl * cov)) / M.pow(cov, 3)\n",
        "  Fh = ((cov*th * (cov*th - 2) + 2) * M.exp(th * cov)) / M.pow(cov, 3)\n",
        "  t1 = (tl+th)/2\n",
        "  F1 = ((cov*t1 * (cov*t1 - 2) + 2) * M.exp(t1 * cov)) / M.pow(cov, 3)\n",
        "  x = (F1 - F0)-(-u / A)\n",
        "  count=0\n",
        "  while (abs(x)> 0.01):\n",
        "    count+=1\n",
        "    #print([t0,tl,t1,th,x])\n",
        "    Fl = ((cov*tl * (cov*tl - 2) + 2) * M.exp(tl * cov)) / M.pow(cov, 3)\n",
        "    Fh = ((cov*th * (cov*th - 2) + 2) * M.exp(th * cov)) / M.pow(cov, 3)\n",
        "    if (Fh-F0)<-u/A: #Upper estimate is too low\n",
        "      #print(\"Shifting Interval Upwards\")\n",
        "      tl = th #shifts the interval up\n",
        "      th = tl + (t1-t0)\n",
        "      t1 = (tl+th)/2\n",
        "      F1 = ((cov*t1 * (cov*t1 - 2) + 2) * M.exp(t1 * cov)) / M.pow(cov, 3)\n",
        "      x = (F1 - F0)-(-u / A)\n",
        "    elif ((Fl-F0)<-u/A):\n",
        "      #assert , \"Lower estimate is also too high\"\n",
        "      #The lower bound is below and the upper bound is above, so we assume the zero lies between\n",
        "      if (F1-F0)<-u/A: #The midpoint is also below\n",
        "        tl=t1 #we move the lower bound up\n",
        "        #print(\"Setting Lower Bound as Midpoint\")\n",
        "        t1 = (tl+th)/2\n",
        "        F1 = ((cov*t1 * (cov*t1 - 2) + 2) * M.exp(t1 * cov)) / M.pow(cov, 3)\n",
        "        x = (F1 - F0)-(-u / A)\n",
        "      else: #The midpoint is also above\n",
        "        th=t1 #we move the upper bound down\n",
        "        #print(\"Setting Higher Bound as Midpoint\")\n",
        "        t1 = (tl+th)/2\n",
        "        F1 = ((cov*t1 * (cov*t1 - 2) + 2) * M.exp(t1 * cov)) / M.pow(cov, 3)\n",
        "        x = (F1 - F0)-(-u / A)\n",
        "    else: return t1\n",
        "  return t1"
      ]
    },
    {
      "cell_type": "code",
      "source": [
        "data = []\n",
        "Age = 35 # changing this can show different aged individuals, but the final value is never less than Age\n",
        "for i in range(100000):\n",
        "  E1 = EventObj(alpha=(1/5000), dose_Beta=(0.3/30), smoke_Beta=(np.log(0.75)), econ_Beta=0.09, sex_Beta=np.log(0.8), c=-0.035)\n",
        "  x = Event(t0=Age, dose=0.6, smoke=0, econ=2, sex=0, event_params=E1)\n",
        "  data.append(x)\n",
        "\n",
        "cols = range(20)\n",
        "plt.hist(data, range=[12, 80], bins=[20,23,26,29,32,35,38,41,44,47,50,53,56,59,62,65,68,71,74,77,80])\n",
        "print(\"Min value: \" + str(min(data)))"
      ],
      "metadata": {
        "id": "BBgW6-n3SPHP",
        "colab": {
          "base_uri": "https://localhost:8080/",
          "height": 447
        },
        "outputId": "b06aefb9-3aad-40ed-95e6-c5a83c505c39"
      },
      "execution_count": null,
      "outputs": [
        {
          "output_type": "stream",
          "name": "stdout",
          "text": [
            "Min value: 35.0001220703125\n"
          ]
        },
        {
          "output_type": "display_data",
          "data": {
            "text/plain": [
              "<Figure size 640x480 with 1 Axes>"
            ],
            "image/png": "[encoded data removed]"
          },
          "metadata": {}
        }
      ]
    },
    {
      "cell_type": "markdown",
      "metadata": {
        "id": "FB9yXYlDDWaz"
      },
      "source": [
        "# Dataset Generation Function Definition"
      ]
    },
    {
      "cell_type": "code",
      "execution_count": null,
      "metadata": {
        "id": "Ocs6Sbs6dgWV"
      },
      "outputs": [],
      "source": [
        "def Create_Dataset(set_size, input=None, output=None, decimal_precision=None, sort=None, ascending=None):\n",
        "  \"\"\"Creates a dataset of random individuals which are then censored via the hazard function definitions\n",
        "  - set_size: The number of individuals to represent (affects person years)\n",
        "  - input: Specifies where the input .parquet file should be read from. If left empty, the function will create its own starting data to censor\n",
        "  - output: Specifies where the output .parquet file should be written and Overwritten. If left Empty, Dataset will print to console\n",
        "  - decimal_Precision: The number of decimal places to round to\n",
        "  \"\"\"\n",
        "  #Once events have been fitted, these will be set accordingly rather than specifying covariates in method parameters\n",
        "  e1_params=EventObj(alpha=(1/15000), dose_Beta=(0.3/30), smoke_Beta=(np.log(0.75)), econ_Beta=0.09, sex_Beta=np.log(0.8), c=-0.035)\n",
        "  e2_params=EventObj(alpha=(1/15000), dose_Beta=(0.3/30), smoke_Beta=(np.log(0.75)), econ_Beta=0.09, sex_Beta=np.log(0.8), c=-0.035)\n",
        "  e3_params=EventObj(alpha=(1/15000), dose_Beta=(0.3/30), smoke_Beta=(np.log(0.75)), econ_Beta=0.09, sex_Beta=np.log(0.8), c=-0.035)\n",
        "\n",
        "  ##### Decimal Precision has a default of 12, thus returning the same values when Decimal_Precision is null\n",
        "  if decimal_precision is None: decimal_precision = 12 # Set the decimal place precision for the output\n",
        "  data = [] # Check if the input Parameter is used and provides a path to a .parquet file\n",
        "\n",
        "  for i in range(0,  set_size):\n",
        "    dx = 0.1\n",
        "    entrance_age = random.randint(18, 25)\n",
        "    seed = random.randint(0, 1000000)\n",
        "    Random.seed(seed)\n",
        "    dose = Random.rand()\n",
        "    age = entrance_age+1\n",
        "    sex = Random.randint(0, 2)\n",
        "    smoker_status = Random.randint(0, 3)\n",
        "    econ_status = Random.randint(0, 7)\n",
        "    Included = 1\n",
        "    event_1 = Event(dose=dose, smoke=smoker_status, econ=econ_status, sex=sex, t0=entrance_age,  \\\n",
        "                                            event_params=e1_params)\n",
        "    event_2 = Event(dose=dose, smoke=smoker_status, econ=econ_status, sex=sex, t0=entrance_age,  \\\n",
        "                                            event_params=e2_params)\n",
        "    event_3 = Event(dose=dose, smoke=smoker_status, econ=econ_status, sex=sex, t0=entrance_age,  \\\n",
        "                                            event_params=e3_params)\n",
        "    min_event = min(event_3, event_2, event_1, 80.0)\n",
        "    event = 0\n",
        "    if min_event < age:\n",
        "      Included = 0\n",
        "      if (event_1<age):\n",
        "        event=1\n",
        "      elif event_2<age:\n",
        "        event=2\n",
        "      elif event_3<age:\n",
        "        event=3\n",
        "    data.append({\"-ID\": i,\n",
        "                  \"Included\": Included,\n",
        "                  \"Smoker_Status\": smoker_status,\n",
        "                  \"Entrance_Age\": round(entrance_age, decimal_precision),\n",
        "                  \"Age\": round(age, decimal_precision),\n",
        "                  \"Dosage\": round(dose, decimal_precision),\n",
        "                  \"Sex\": sex,\n",
        "                  \"Economic_Status\": econ_status,\n",
        "                  \"Dosage_Seed\": seed,\n",
        "                  \"Event1\": round(event_1, decimal_precision), \"Event2\": round(event_2, decimal_precision), \"Event3\": round(event_3, decimal_precision),\n",
        "                  \"Earliest_Event_Age\": round(min_event, decimal_precision),\n",
        "                  \"Event\": event})\n",
        "    #for each person loop through until their exit age occurs in the coming year\n",
        "    while age < 80 and Included == 1:\n",
        "      entrance_age = age\n",
        "      age += 1\n",
        "      dose += Random.uniform(0, 1)\n",
        "      event_1 = Event(dose=dose, smoke=smoker_status, econ=econ_status, sex=sex, t0=entrance_age,  \\\n",
        "                                              event_params=e1_params)\n",
        "      event_2 = Event(dose=dose, smoke=smoker_status, econ=econ_status, sex=sex, t0=entrance_age,  \\\n",
        "                                              event_params=e2_params)\n",
        "      event_3 = Event(dose=dose, smoke=smoker_status, econ=econ_status, sex=sex, t0=entrance_age,  \\\n",
        "                                              event_params=e3_params)\n",
        "      min_event = min(event_3, event_2, event_1, 80.0)\n",
        "      if min_event < age:\n",
        "        Included = 0\n",
        "        if (event_1<age):\n",
        "          event=1\n",
        "        elif event_2<age:\n",
        "          event=2\n",
        "        elif event_3<age:\n",
        "          event=3\n",
        "      data.append({\"-ID\": i,\n",
        "                    \"Included\": Included,\n",
        "                    \"Smoker_Status\": smoker_status,\n",
        "                    \"Entrance_Age\": round(entrance_age, decimal_precision),\n",
        "                    \"Age\": round(age, decimal_precision),\n",
        "                    \"Dosage\": round(dose, decimal_precision),\n",
        "                    \"Sex\": sex,\n",
        "                    \"Economic_Status\": econ_status,\n",
        "                    \"Dosage_Seed\": seed,\n",
        "                    \"Event1\": round(event_1, decimal_precision),\n",
        "                    \"Event2\": round(event_2, decimal_precision),\n",
        "                    \"Event3\": round(event_3, decimal_precision),\n",
        "                    \"Earliest_Event_Age\": round(min_event, decimal_precision),\n",
        "                    \"Event\": event})\n",
        "  RDD = sc.parallelize(data)\n",
        "  EventRDD = RDD.map(lambda x:\n",
        "                        (x[\"-ID\"],\n",
        "                        x[\"Included\"],\n",
        "                        x[\"Smoker_Status\"],\n",
        "                        x[\"Entrance_Age\"],\n",
        "                        x[\"Age\"],\n",
        "                        x[\"Dosage\"],\n",
        "                        x[\"Sex\"],\n",
        "                        x[\"Economic_Status\"],\n",
        "                        x[\"Dosage_Seed\"],\n",
        "                        x[\"Event1\"],\n",
        "                        x[\"Event2\"],\n",
        "                        x[\"Event3\"],\n",
        "                        x[\"Earliest_Event_Age\"],\n",
        "                        x[\"Event\"]))\n",
        "  df = EventRDD.toDF([\"-ID\", \"Included\", \"Smoker_Status\", \"Entrance_Age\", \"Age\", \"Dosage\", \"Sex\", \"Economic_Status\", \"Dosage_Seed\", \"Event1\", \"Event2\", \"Event3\", \"Earliest_Event_Age\",\"Event\"])\n",
        "  df = df.withColumn(\"Dosage\", sqlround(df[\"Dosage\"], decimal_precision))\n",
        "  df = df.withColumn(\"Entrance_Age\", sqlround(df[\"Entrance_Age\"], decimal_precision))\n",
        "\n",
        "  if sort != None:\n",
        "    if ascending == None: ascending = False\n",
        "    df = df.orderBy(sort, ascending=ascending)\n",
        "  else:\n",
        "    if ascending == None:\n",
        "      ascending = False\n",
        "      df = df.orderBy('-ID', ascending=True)\n",
        "    if ascending == True and sort==None:\n",
        "      df = df.orderBy('-ID', ascending=False)\n",
        "  if output is None:\n",
        "    print()\n",
        "    return df\n",
        "  elif output == \"print\" or output == 'p':\n",
        "    df.show()\n",
        "  else:\n",
        "    df.write.parquet(output, 'overwrite')"
      ]
    },
    {
      "cell_type": "markdown",
      "metadata": {
        "id": "ju-TbnDxpnSY"
      },
      "source": [
        "# Testing Code Functionality"
      ]
    },
    {
      "cell_type": "code",
      "execution_count": null,
      "metadata": {
        "id": "DSjPBNFmH3fg"
      },
      "outputs": [],
      "source": [
        "def Test_Dataset_Values(set_size, e1_params=EventObj, e2_params=EventObj, e3_params=EventObj, input=None, output=None, decimal_precision=None, sort=None, ascending=None):\n",
        "  \"\"\"Creates a dataset of random individuals which are then censored via the hazard function definitions\n",
        "  - set_size: The number of individuals to represent (affects person years)\n",
        "  - input: Specifies where the input .parquet file should be read from. If left empty, the function will create its own starting data to censor\n",
        "  - output: Specifies where the output .parquet file should be written and Overwritten. If left Empty, Dataset will print to console\n",
        "  - decimal_Precision: The number of decimal places to round to\n",
        "  \"\"\"\n",
        "  ##### Decimal Precision has a default of 12, thus returning the same values when Decimal_Precision is null\n",
        "  if decimal_precision is None: decimal_precision = 12 # Set the decimal place precision for the output\n",
        "  data = [] # Check if the input Parameter is used and provides a path to a .parquet file\n",
        "\n",
        "  # Loop through every individual which will need to be generated\n",
        "  for i in range(0,  set_size):\n",
        "    entrance_age = random.randint(18, 25)\n",
        "    dose = random.random()\n",
        "    age = entrance_age+1\n",
        "    sex = random.randint(0, 2)\n",
        "    smoker_status = random.randint(0, 3)\n",
        "    econ_status = random.randint(0, 7)\n",
        "    Included = 1\n",
        "    event_1 = Event(dose=dose, smoke=smoker_status, econ=econ_status, sex=sex, t0=entrance_age,  \\\n",
        "                                            event_params=e1_params)\n",
        "    event_2 = Event(dose=dose, smoke=smoker_status, econ=econ_status, sex=sex, t0=entrance_age,  \\\n",
        "                                            event_params=e2_params)\n",
        "    event_3 = Event(dose=dose, smoke=smoker_status, econ=econ_status, sex=sex, t0=entrance_age,  \\\n",
        "                                            event_params=e3_params)\n",
        "    min_event = min(event_3, event_2, event_1, 80.0)\n",
        "    event = 0\n",
        "    if min_event < age:\n",
        "      Included = 0\n",
        "      if (event_1<age):\n",
        "        event=1\n",
        "      elif event_2<age:\n",
        "        event=2\n",
        "      elif event_3<age:\n",
        "        event=3\n",
        "    data.append({\"-ID\": i,\n",
        "                  \"Included\": Included,\n",
        "                  \"Smoker_Status\": smoker_status,\n",
        "                  \"Entrance_Age\": round(entrance_age, decimal_precision),\n",
        "                  \"Age\": round(age, decimal_precision),\n",
        "                  \"Dosage\": round(dose, decimal_precision),\n",
        "                  \"Sex\": sex,\n",
        "                  \"Economic_Status\": econ_status,\n",
        "                  \"Event1\": round(event_1, decimal_precision), \"Event2\": round(event_2, decimal_precision), \"Event3\": round(event_3, decimal_precision),\n",
        "                  \"Earliest_Event_Age\": round(min_event, decimal_precision),\n",
        "                  \"Event\": event})\n",
        "    #for each person loop through until their exit age occurs in the coming year\n",
        "    while age < 80 and Included == 1:\n",
        "      entrance_age = age\n",
        "      age += 1\n",
        "      dose += random.uniform(0, 1)\n",
        "      event_1 = min(Event(dose=dose, smoke=smoker_status, econ=econ_status, sex=sex, t0=entrance_age,  \\\n",
        "                                              event_params=e1_params), 80.0)\n",
        "      event_2 = min(Event(dose=dose, smoke=smoker_status, econ=econ_status, sex=sex, t0=entrance_age,  \\\n",
        "                                              event_params=e2_params), 80.0)\n",
        "      event_3 = min(Event(dose=dose, smoke=smoker_status, econ=econ_status, sex=sex, t0=entrance_age,  \\\n",
        "                                              event_params=e3_params), 80.0)\n",
        "      min_event = min(event_3, event_2, event_1, 80.0)\n",
        "      if min_event < age:\n",
        "        Included = 0\n",
        "        if (event_1<age):\n",
        "          event=1\n",
        "        elif event_2<age:\n",
        "          event=2\n",
        "        elif event_3<age:\n",
        "          event=3\n",
        "      data.append({\"-ID\": i,\n",
        "                    \"Included\": Included,\n",
        "                    \"Smoker_Status\": smoker_status,\n",
        "                    \"Entrance_Age\": round(entrance_age, decimal_precision),\n",
        "                    \"Age\": round(age, decimal_precision),\n",
        "                    \"Dosage\": round(dose, decimal_precision),\n",
        "                    \"Sex\": sex,\n",
        "                    \"Economic_Status\": econ_status,\n",
        "                    \"Event1\": round(event_1, decimal_precision),\n",
        "                    \"Event2\": round(event_2, decimal_precision),\n",
        "                    \"Event3\": round(event_3, decimal_precision),\n",
        "                    \"Earliest_Event_Age\": round(min_event, decimal_precision),\n",
        "                    \"Event\": event})\n",
        "  RDD = sc.parallelize(data)\n",
        "  EventRDD = RDD.map(lambda x:\n",
        "                        (x[\"-ID\"],\n",
        "                        x[\"Included\"],\n",
        "                        x[\"Smoker_Status\"],\n",
        "                        x[\"Entrance_Age\"],\n",
        "                        x[\"Age\"],\n",
        "                        x[\"Dosage\"],\n",
        "                        x[\"Sex\"],\n",
        "                        x[\"Economic_Status\"],\n",
        "                        x[\"Event1\"],\n",
        "                        x[\"Event2\"],\n",
        "                        x[\"Event3\"],\n",
        "                        x[\"Earliest_Event_Age\"],\n",
        "                        x[\"Event\"]))\n",
        "  df = EventRDD.toDF([\"-ID\", \"Included\", \"Smoker_Status\", \"Entrance_Age\", \"Age\", \"Dosage\", \"Sex\", \"Economic_Status\", \"Event1\", \"Event2\", \"Event3\", \"Earliest_Event_Age\",\"Event\"])\n",
        "  df = df.withColumn(\"Dosage\", sqlround(df[\"Dosage\"], decimal_precision))\n",
        "  df = df.withColumn(\"Entrance_Age\", sqlround(df[\"Entrance_Age\"], decimal_precision))\n",
        "\n",
        "  if sort != None:\n",
        "    if ascending == None: ascending = False\n",
        "    df = df.orderBy(sort, ascending=ascending)\n",
        "  else:\n",
        "    if ascending == None:\n",
        "      ascending = False\n",
        "      df = df.orderBy('-ID', ascending=True)\n",
        "    if ascending == True and sort==None:\n",
        "      df = df.orderBy('-ID', ascending=False)\n",
        "  if output is None:\n",
        "    print()\n",
        "    return df\n",
        "  elif output == \"print\" or output == 'p':\n",
        "    df.show()\n",
        "  else:\n",
        "    df.write.parquet(output, 'overwrite')"
      ]
    },
    {
      "cell_type": "code",
      "execution_count": null,
      "metadata": {
        "id": "ha-HERYBLvRT",
        "colab": {
          "base_uri": "https://localhost:8080/",
          "height": 1000
        },
        "outputId": "590be089-aa4f-4da7-d4db-c09e6bc55187"
      },
      "outputs": [
        {
          "output_type": "stream",
          "name": "stdout",
          "text": [
            "\n",
            "root\n",
            " |-- -ID: long (nullable = true)\n",
            " |-- Included: long (nullable = true)\n",
            " |-- Smoker_Status: long (nullable = true)\n",
            " |-- Entrance_Age: long (nullable = true)\n",
            " |-- Age: long (nullable = true)\n",
            " |-- Dosage: double (nullable = true)\n",
            " |-- Sex: long (nullable = true)\n",
            " |-- Economic_Status: long (nullable = true)\n",
            " |-- Event1: double (nullable = true)\n",
            " |-- Event2: double (nullable = true)\n",
            " |-- Event3: double (nullable = true)\n",
            " |-- Earliest_Event_Age: double (nullable = true)\n",
            " |-- Event: long (nullable = true)\n",
            "\n",
            "+---+--------+-------------+------------+---+-------+---+---------------+--------+-------+--------+------------------+-----+\n",
            "|-ID|Included|Smoker_Status|Entrance_Age|Age| Dosage|Sex|Economic_Status|  Event1| Event2|  Event3|Earliest_Event_Age|Event|\n",
            "+---+--------+-------------+------------+---+-------+---+---------------+--------+-------+--------+------------------+-----+\n",
            "|999|       1|            0|          20| 21|  0.832|  0|              4| 28.6441|49.7594|  49.539|           28.6441|    0|\n",
            "|999|       1|            0|          21| 22| 1.1184|  0|              4| 41.8143|52.7377| 28.5197|           28.5197|    0|\n",
            "|999|       1|            0|          22| 23| 1.3959|  0|              4| 50.4278|49.6961| 66.1183|           49.6961|    0|\n",
            "|999|       0|            0|          23| 24| 1.9219|  0|              4| 23.8165|33.1081| 51.4091|           23.8165|    1|\n",
            "|998|       1|            0|          23| 24| 0.5327|  2|              1|103.2748|83.3863|134.9657|              80.0|    0|\n",
            "|998|       0|            0|          24| 25| 0.7366|  2|              1| 24.3853|50.6785| 49.5783|           24.3853|    1|\n",
            "|997|       1|            0|          20| 21| 0.3107|  1|              5| 35.0297|36.5218| 41.8974|           35.0297|    0|\n",
            "|997|       1|            0|          21| 22|  0.449|  1|              5|    80.0|58.5115|  49.378|            49.378|    0|\n",
            "|997|       1|            0|          22| 23| 1.1288|  1|              5| 31.8567|25.6487| 27.1885|           25.6487|    0|\n",
            "|997|       1|            0|          23| 24| 1.5072|  1|              5| 59.2175|78.3756| 46.1054|           46.1054|    0|\n",
            "|997|       1|            0|          24| 25| 1.6562|  1|              5| 27.0421|29.4378| 33.0899|           27.0421|    0|\n",
            "|997|       1|            0|          25| 26| 2.1468|  1|              5| 62.6997|40.3132|    80.0|           40.3132|    0|\n",
            "|997|       1|            0|          26| 27| 2.1628|  1|              5|    80.0|56.9834|    80.0|           56.9834|    0|\n",
            "|997|       1|            0|          27| 28| 2.6108|  1|              5| 70.0738|39.3376| 31.8935|           31.8935|    0|\n",
            "|997|       0|            0|          28| 29| 3.3033|  1|              5| 34.1379|53.6901| 28.7255|           28.7255|    3|\n",
            "|996|       1|            3|          19| 20| 0.1939|  1|              2| 80.0068|23.8184| 42.2638|           23.8184|    0|\n",
            "|996|       1|            3|          39| 40|10.8664|  1|              2|    80.0|   80.0|    80.0|              80.0|    0|\n",
            "|996|       1|            3|          20| 21|   0.27|  1|              2| 27.4238|69.9631| 26.7485|           26.7485|    0|\n",
            "|996|       1|            3|          21| 22| 0.7265|  1|              2| 67.6084|27.0021| 58.2978|           27.0021|    0|\n",
            "|996|       1|            3|          22| 23| 1.2265|  1|              2|    80.0|  32.46|  72.333|             32.46|    0|\n",
            "+---+--------+-------------+------------+---+-------+---+---------------+--------+-------+--------+------------------+-----+\n",
            "only showing top 20 rows\n",
            "\n"
          ]
        },
        {
          "output_type": "display_data",
          "data": {
            "text/plain": [
              "<Figure size 640x480 with 1 Axes>"
            ],
            "image/png": "[encoded data removed]"
          },
          "metadata": {}
        }
      ],
      "source": [
        "\n",
        "#Test_Dataset_Values(set_Size=100000, a=1/20000, c=-0.065, dose_Beta=0.3/30, econ_Beta=np.log(0.8), smoke_Beta=np.log(0.75), sex_Beta=np.log(0.8), output=\"p\", sort='Dosage', ascending=True, decimal_Precision=6)\n",
        "E1 = EventObj(alpha=(1/15000), dose_Beta=(0.3/30), smoke_Beta=(np.log(0.75)), econ_Beta=0.09, sex_Beta=np.log(0.8), c=-0.035)\n",
        "E2 = EventObj(alpha=(1/15000), dose_Beta=(0.3/30), smoke_Beta=(np.log(0.75)), econ_Beta=0.09, sex_Beta=np.log(0.8), c=-0.035)\n",
        "E3 = EventObj(alpha=(1/15000), dose_Beta=(0.3/30), smoke_Beta=(np.log(0.75)), econ_Beta=0.09, sex_Beta=np.log(0.8), c=-0.035)\n",
        "DF = Test_Dataset_Values(set_size=1000, e1_params=E1, e2_params=E2, e3_params=E3, sort='-ID', ascending=False, decimal_precision=4)\n",
        "DF.printSchema()\n",
        "DF.show()\n",
        "# print(f\"Total Person Years: {DF.count()}\\\"\")\n",
        "DF0 = DF.toPandas().groupby(['-ID']).max()\n",
        "temp = DF0['Age']\n",
        "# print(temp)\n",
        "plt.hist(temp,bins=np.linspace(18,80,80-18))\n",
        "plt.show()"
      ]
    },
    {
      "cell_type": "code",
      "source": [],
      "metadata": {
        "id": "Aj7c2KtC9P4e"
      },
      "execution_count": null,
      "outputs": []
    }
  ],
  "metadata": {
    "colab": {
      "collapsed_sections": [
        "FB9yXYlDDWaz"
      ],
      "provenance": [],
      "include_colab_link": true
    },
    "kernelspec": {
      "display_name": "Python 3",
      "name": "python3"
    },
    "language_info": {
      "name": "python"
    }
  },
  "nbformat": 4,
  "nbformat_minor": 0
}