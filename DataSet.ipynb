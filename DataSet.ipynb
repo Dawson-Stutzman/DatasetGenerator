{
  "nbformat": 4,
  "nbformat_minor": 0,
  "metadata": {
    "colab": {
      "provenance": [],
      "authorship_tag": "ABX9TyNYheELEwd5sFxWl9ElXBGc",
      "include_colab_link": true
    },
    "kernelspec": {
      "name": "python3",
      "display_name": "Python 3"
    },
    "language_info": {
      "name": "python"
    }
  },
  "cells": [
    {
      "cell_type": "markdown",
      "metadata": {
        "id": "view-in-github",
        "colab_type": "text"
      },
      "source": [
        "<a href=\"https://colab.research.google.com/github/Dawson-Stutzman/DatasetGenerator/blob/main/DataSet.ipynb\" target=\"_parent\"><img src=\"https://colab.research.google.com/assets/colab-badge.svg\" alt=\"Open In Colab\"/></a>"
      ]
    },
    {
      "cell_type": "markdown",
      "source": [
        "# General Setup"
      ],
      "metadata": {
        "id": "Szsa0n4hDQbt"
      }
    },
    {
      "cell_type": "code",
      "execution_count": 1,
      "metadata": {
        "id": "fOKHBjEXAz_Q",
        "colab": {
          "base_uri": "https://localhost:8080/"
        },
        "outputId": "3349d78c-eaa5-4e14-bf4c-b291467ac4c0"
      },
      "outputs": [
        {
          "output_type": "stream",
          "name": "stdout",
          "text": [
            "Collecting pyspark\n",
            "  Downloading pyspark-3.5.0.tar.gz (316.9 MB)\n",
            "\u001b[2K     \u001b[90m━━━━━━━━━━━━━━━━━━━━━━━━━━━━━━━━━━━━━━━\u001b[0m \u001b[32m316.9/316.9 MB\u001b[0m \u001b[31m2.8 MB/s\u001b[0m eta \u001b[36m0:00:00\u001b[0m\n",
            "\u001b[?25h  Preparing metadata (setup.py) ... \u001b[?25l\u001b[?25hdone\n",
            "Requirement already satisfied: py4j==0.10.9.7 in /usr/local/lib/python3.10/dist-packages (from pyspark) (0.10.9.7)\n",
            "Building wheels for collected packages: pyspark\n",
            "  Building wheel for pyspark (setup.py) ... \u001b[?25l\u001b[?25hdone\n",
            "  Created wheel for pyspark: filename=pyspark-3.5.0-py2.py3-none-any.whl size=317425344 sha256=995250ed51a47b933e99c60644da7168a3cbf9deb533e2deac4a4288baad2ae4\n",
            "  Stored in directory: /root/.cache/pip/wheels/41/4e/10/c2cf2467f71c678cfc8a6b9ac9241e5e44a01940da8fbb17fc\n",
            "Successfully built pyspark\n",
            "Installing collected packages: pyspark\n",
            "Successfully installed pyspark-3.5.0\n"
          ]
        }
      ],
      "source": [
        "!pip install pyspark\n",
        "#from google.colab import drive\n",
        "#drive.mount('/content/gdrive')"
      ]
    },
    {
      "cell_type": "code",
      "source": [
        "import numpy as np\n",
        "import matplotlib.pyplot as plt\n",
        "#import pyspark.pandas as ps\n",
        "from pyspark import SparkConf, SparkContext\n",
        "from pyspark.sql import SparkSession, Window, SQLContext\n",
        "from pyspark.sql import functions as F\n",
        "from pyspark.sql.types import IntegerType, NumericType\n",
        "import os\n",
        "os.environ[\"PYARROW_IGNORE_TIMEZONE\"] = \"1\"\n",
        "import time\n",
        "from pyspark.sql.functions import udf, struct, when, exp, pow, lit, least\n",
        "from pyspark.sql.functions import round as sqlround\n",
        "from pyspark.sql.functions import sum as sqlsum\n",
        "# round and sum are default functions, so the sqlsum and sqlround names are needed to differentiate\n",
        "from pyspark.sql.types import *\n",
        "from numpy.lib import math as M\n",
        "from numpy import random as Random\n",
        "################################\n",
        "conf = SparkConf().setAppName(\"AppGen\")\n",
        "sc=SparkContext(conf=conf)\n",
        "sc.setLogLevel(\"WARN\")\n",
        "sqlContext = SQLContext(sc)"
      ],
      "metadata": {
        "id": "Jdd42Q8fCM9g",
        "colab": {
          "base_uri": "https://localhost:8080/"
        },
        "outputId": "9f11ad03-da15-46f8-ba19-0705c4de502a"
      },
      "execution_count": 2,
      "outputs": [
        {
          "output_type": "stream",
          "name": "stderr",
          "text": [
            "/usr/local/lib/python3.10/dist-packages/pyspark/sql/context.py:113: FutureWarning: Deprecated in 3.0.0. Use SparkSession.builder.getOrCreate() instead.\n",
            "  warnings.warn(\n"
          ]
        }
      ]
    },
    {
      "cell_type": "markdown",
      "source": [
        "# Censor Equation Definitions (Not Yet Updated)"
      ],
      "metadata": {
        "id": "ka3EZUXZ6FDN"
      }
    },
    {
      "cell_type": "code",
      "source": [
        "## NOTE: Right now the equation has been translated into terms of x instead of y for simpler lookups\n",
        "def eq1(y: float):\n",
        "  \"\"\"Calculates a random age at which an event occurs:\n",
        "  - y: The likelyhood of event. (Used to find the corrosponding age on the hazard function)\n",
        "  => Returns the time corrosponding to y according to the equation below\n",
        "  \"\"\"\n",
        "  #Changed from 12 -> 18\n",
        "  return ((18 * M.sqrt(5)) * (M.sqrt(M.log(1 / y))))\n",
        "\n",
        "def eq2(y: float):\n",
        "  \"\"\"Calculates a random age at which an event occurs:\n",
        "  - y: The likelyhood of event. (Used to find the corrosponding age on the hazard function)\n",
        "  => Returns the time corrosponding to y according to the equation below\n",
        "  \"\"\"\n",
        "  return (60.6115 * M.pow((M.log(1/y)), 0.25))\n",
        "\n",
        "def eq3(y: float):\n",
        "  \"\"\"Calculates a random age at which an event occurs:\n",
        "  - y: The likelyhood of event. (Used to find the corrosponding age on the hazard function)\n",
        "  => Returns the time corrosponding to y according to the equation below\n",
        "  \"\"\"\n",
        "  return (80 * (M.sqrt(1 - y)))\n",
        "\n",
        "def new_eq1(A: float, a: float, b: float,  c: float, t: float,  dose: float)\n",
        "  val = (((b * c *(b * c - 2) + 2) * M.exp(b * c)) - ((a * c (a * c - 2) + 2) * M.exp(a * c))) \\\n",
        "  / M.pow(c, 3)\n",
        "  return val\n",
        "\n",
        "  # c Seems to be an exponential scalar value\n",
        "  # The method will be called using Lambda notation as follows for Map Functions:\n",
        "  # rdd.map(lambda x: new_eq1(A, a, b, c, 'Time','Dosage'))\n"
      ],
      "metadata": {
        "id": "B7o6AnTcTh5n"
      },
      "execution_count": 3,
      "outputs": []
    },
    {
      "cell_type": "markdown",
      "source": [
        "# Time & Dosage Approximation Definitions"
      ],
      "metadata": {
        "id": "3wfKobB5KRte"
      }
    },
    {
      "cell_type": "markdown",
      "source": [
        "### <center>Time Approximation Function</center>\n",
        "---\n",
        "\\begin{matrix}\n",
        "  t_0 & \\text{Entrance time}\\\\\n",
        "  s & \\text{Approximated exit time}\\\\\n",
        "  a & \\text{Individual's covariates}\\\\\n",
        "  b & \\text{Constant for fitting equations}\\\\\n",
        "  u & \\text{Random Likelyhood of event}\\\\\n",
        "\\end{matrix}\n",
        "\\begin{gather*}\n",
        "  \\\\t_1 = \\frac{2}{b} \\Biggl(\\ln \\Bigl( -\\frac{b}{2}\\ln(u) + e^{a + \\frac{b}{2} t_0} \\Bigl) - a \\Biggl)\n",
        "\\end{gather*}\n",
        "\\begin{matrix}\\\\\n",
        "⇒ & t_1\n",
        "\\end{matrix}"
      ],
      "metadata": {
        "id": "IVK7L7TQVzyY"
      }
    },
    {
      "cell_type": "code",
      "source": [
        "def Get_Time_For_Dosage(t0, s: int, a=None, b=None):\n",
        "  \"\"\"Finds time of events using linnear reggression approx.\n",
        "  - t0: The individual's entrance age\n",
        "  - s: The seed for random event recreation\n",
        "  - a: Covariates of an individual\n",
        "  - b: Constant to fit the equation\n",
        "  => approximate time of event as a float\"\"\"\n",
        "  Random.seed(s)\n",
        "  if b == None:\n",
        "    d = Random.uniform(0.0, 30.0)\n",
        "    b = (0.05 * t0 / 50) + (0.05 * t0 / 60)\n",
        "  if a == None:\n",
        "    a = -2.5\n",
        "  Random.seed(s)\n",
        "  u = Random.uniform(0.0, 1.0)\n",
        "  return 2/b * ( M.log( ((-b / 2.0) * M.log(u)) + (M.exp(a + (b/2) * t0)) ) - a )\n",
        ""
      ],
      "metadata": {
        "id": "wmZS1YdW6Et1"
      },
      "execution_count": 4,
      "outputs": []
    },
    {
      "cell_type": "markdown",
      "source": [
        "### <center>Dosage Functions</center>\n",
        "---\n",
        "\\begin{matrix}\n",
        "  t_0 & \\text{Age at entrance}\\\\\n",
        "  s & \\text{Seed for recreatable dosage data}\\\\\n",
        "  dx & \\text{Dosage step size}\\\\\\\\\n",
        "  ⇒ & \\text{A dictionary of the individual's dosages at each step}\n",
        "\\end{matrix}"
      ],
      "metadata": {
        "id": "2jJY6PYdxGzY"
      }
    },
    {
      "cell_type": "code",
      "source": [
        "\n",
        "def Get_Dose_History(s, t0, dx=None):\n",
        "  \"\"\"Finds the dosage history of the individual while in the trial.\n",
        "  - t0: The entrance age of the individual\n",
        "  - s: The seed for random event recreation\n",
        "  - dx: The interval to increase the value by\n",
        "  => recreatable approximate dosage of an individual by time of exit\"\"\"\n",
        "  t1 = Get_Time_For_Dosage(a=-2.5, t0=t0, s=s)\n",
        "  if dx == None:\n",
        "    dx = 0.1\n",
        "  dose = 0\n",
        "  Random.seed(s)\n",
        "  dose_history = {0: 0.00}\n",
        "  dose_history.update({t0 - dx: 0.00})\n",
        "  age = t0\n",
        "\n",
        "  while age <= t1:\n",
        "    dose_history.update({age: dose + dx * Random.uniform(0.0, 1.0)})\n",
        "    age += dx\n",
        "    dose = [*dose_history.values()][-1]\n",
        "  return dose_history;\n",
        "\n",
        "def Get_Dose(s, t0, dx=None):\n",
        "  \"\"\"Finds the dosage of the individual at the time of exit.\n",
        "  - t0: The entrance age of the individual\n",
        "  - s: The seed for random event recreation\n",
        "  - dx: The interval to increase the value by\n",
        "  => recreatable approximate dosage of an individual by time of exit\"\"\"\n",
        "  dose_history = Get_Dose_History(s=s, t0=t0, dx=dx)\n",
        "  return [*dose_history.values()][-1];"
      ],
      "metadata": {
        "id": "jG9HlAPPxFoj"
      },
      "execution_count": 5,
      "outputs": []
    },
    {
      "cell_type": "markdown",
      "source": [
        "### <center>Dosage Visualization</center>\n",
        "---\n",
        "\\begin{matrix}\n",
        "  t_0 & \\text{Entrance age}\\\\\n",
        "  s & \\text{Seed for recreatable random dosage data}\\\\\n",
        "  dx & \\text{Dosage step size}\\\\\\\\\n",
        "  ⇒ & \\text{A graph representing dosage vs. age}\n",
        "\\end{matrix}"
      ],
      "metadata": {
        "id": "pUL6RhYY2bG1"
      }
    },
    {
      "cell_type": "code",
      "source": [
        "def Get_Dose_Graph(s, t0, dx=None):\n",
        "  \"\"\"Finds the dosage & it's graph of the individual at the time of exit.\n",
        "  - t0: The entrance age of the individual\n",
        "  - s: The seed for random event recreation\n",
        "  - dx: The interval to increase the value by\n",
        "  => recreatable approximate dosage of an individual by time of exit\"\"\"\n",
        "  dose_history = Get_Dose_History(s=s, t0=t0, dx=dx)\n",
        "  dose_history.update({0.0: 0.00})\n",
        "  dose_history.update({[*dose_history.keys()][-1] + 10: [*dose_history.values()][-1]})\n",
        "\n",
        "  fig=plt.figure()\n",
        "  ax=fig.add_subplot(1,1,1)\n",
        "  ax.plot(dose_history.keys(), dose_history.values())\n",
        "  ax.set_title(\"Seed \" + str(s))\n",
        "  plt.tight_layout()\n",
        "  plt.show()"
      ],
      "metadata": {
        "id": "2o2f-lz62fCd"
      },
      "execution_count": 6,
      "outputs": []
    },
    {
      "cell_type": "markdown",
      "source": [
        "# Dataset Generation Function Definition"
      ],
      "metadata": {
        "id": "FB9yXYlDDWaz"
      }
    },
    {
      "cell_type": "code",
      "source": [
        "import random\n",
        "def Create_Dataset_SparkContext(Set_Size, Input=None, Output=None, Decimal_Precision=None, sort=None, ascending=None):\n",
        "  \"\"\"Creates a dataset of random individuals which are then censored via the hazard function definitions\n",
        "  - Set_Size: The number of individuals to represent (affects person years)\n",
        "  - Input: Specifies where the input .parquet file should be read from. If left empty, the function will create its own starting data to censor\n",
        "  - Output: Specifies where the output .parquet file should be written and Overwritten. If left Empty, Dataset will print to console\n",
        "  - Decimal_Precision: The number of decimal places to round to\n",
        "  \"\"\"\n",
        "  if Decimal_Precision is None: Precision = 12 # Set the decimal place precision for the output\n",
        "  else: Precision = Decimal_Precision\n",
        "  data = [] # Check if the input Parameter is used and provides a path to a .parquet file\n",
        "  if Input != None: df = sqlContext.read.parquet(Input) # Create a dataset for possible individuals before censoring is done.\n",
        "  else:\n",
        "    for i in range(0,  Set_Size):\n",
        "      Entrance_Age = Random.uniform(18, 80)\n",
        "      seed = random.randint(0, 1000000)\n",
        "      Ev1 = eq1(Random.uniform(0.0, 1.0))\n",
        "      Ev2 = eq2(Random.uniform(0.0, 1.0))\n",
        "      Ev3 = eq3(Random.uniform(0.0, 1.0))\n",
        "      Exit_Age = min(Ev1, Ev2, Ev3, 80.0)\n",
        "      dose = Get_Dose(t0=Entrance_Age, s=seed)\n",
        "      age = Entrance_Age\n",
        "      dx = 0.1\n",
        "      data.append({\"-Index\": i, \"Included\": 1,\n",
        "                   \"Smoker_Status\": Random.randint(0, 3),\n",
        "                   \"Entrance_Age\": Entrance_Age,\n",
        "                   \"Event1\": Ev1, \"Event2\": Ev2, \"Event3\": Ev3,\n",
        "                   \"Dosage\": dose,\n",
        "                   \"Sex\": Random.randint(0, 2),\n",
        "                   \"Economic_Status\": Random.randint(0, 7),\n",
        "                   \"Earliest_Event_Age\": Exit_Age,\n",
        "                   \"Dosage_Seed\": seed})\n",
        "  psdf = sc.parallelize(data)\n",
        "  df = psdf.toDF()\n",
        "  df = df.withColumn(\"Included\", when((df[\"Earliest_Event_Age\"] > df[\"Entrance_Age\"]), 0).otherwise(1))# Censor cases where Individuals have not yet reached an event\n",
        "  df = df.withColumn('Earliest_Event', when(df[\"Earliest_Event_Age\"] == df[\"Event1\"], 1).when(df[\"Earliest_Event_Age\"] == df[\"Event2\"], 2).otherwise(2)) # I assumed that people over 80 would automatically be removed from our set, so the person years are 80 - entrance age\n",
        "  df = df.withColumn(\"Person_Years\", sqlround((df[\"Earliest_Event_Age\"] - df[\"Entrance_Age\"]), Precision))\n",
        "  df = df.withColumn(\"Dosage\", sqlround(df[\"Dosage\"], Precision))\n",
        "  df = df.withColumn(\"Earliest_Event_Age\", sqlround(df[\"Earliest_Event_Age\"], Precision))\n",
        "  df = df.withColumn(\"Event1\", sqlround(df[\"Event1\"], Precision))\n",
        "  df = df.withColumn(\"Event2\", sqlround(df[\"Event2\"], Precision))\n",
        "  df = df.withColumn(\"Event3\", sqlround(df[\"Event3\"], Precision))\n",
        "  df = df.withColumn(\"Entrance_Age\", sqlround(df[\"Entrance_Age\"], Precision))\n",
        "  df_filtered=df.filter(df.Included == 0 )\n",
        "  df_filtered=df_filtered.drop('Included')\n",
        "  if sort != None:\n",
        "    if ascending == None: ascending = False\n",
        "    df_filtered = df_filtered.orderBy(sort, ascending=ascending)\n",
        "  else:\n",
        "    if ascending == None: ascending = False\n",
        "    df_filtered = df_filtered.orderBy('-Index', ascending=True)\n",
        "  if ascending == True and sort==None:\n",
        "    df_filtered = df_filtered.orderBy('-Index', ascending=False)\n",
        "  if Output is None:\n",
        "    df_filtered.show()\n",
        "    df_filtered.select(sqlround(sqlsum(df[\"Person_Years\"]), Precision).alias('Total_Person_Years')).show()\n",
        "  else:\n",
        "    df.write.parquet(Output, 'overwrite')"
      ],
      "metadata": {
        "id": "Ocs6Sbs6dgWV"
      },
      "execution_count": 7,
      "outputs": []
    },
    {
      "cell_type": "markdown",
      "source": [
        "# Testing Code Functionality"
      ],
      "metadata": {
        "id": "ju-TbnDxpnSY"
      }
    },
    {
      "cell_type": "code",
      "source": [
        "Time1 = 10\n",
        "Seed1 = 394090\n",
        "print(\"Age Approximation: \" + str(Get_Time_For_Dosage(t0=Time1, s=Seed1)))\n",
        "print(\"Final Dosage: \" + str(Get_Dose(t0=Time1, s=Seed1)))\n",
        "Get_Dose_Graph(t0=Time1, s=Seed1)\n",
        "\n",
        "Create_Dataset_SparkContext(Set_Size=10000, Decimal_Precision=3)"
      ],
      "metadata": {
        "colab": {
          "base_uri": "https://localhost:8080/",
          "height": 1000
        },
        "id": "DSjPBNFmH3fg",
        "outputId": "29d6127c-f24c-4b87-ba41-697638a13ca0"
      },
      "execution_count": 8,
      "outputs": [
        {
          "output_type": "stream",
          "name": "stdout",
          "text": [
            "Age Approximation: 74.19300559756346\n",
            "Final Dosage: 31.6007005554674\n"
          ]
        },
        {
          "output_type": "display_data",
          "data": {
            "text/plain": [
              "<Figure size 640x480 with 1 Axes>"
            ],
            "image/png": "[encoded data removed]"
          },
          "metadata": {}
        },
        {
          "output_type": "stream",
          "name": "stdout",
          "text": [
            "+------+------+-----------+------------------+---------------+------------+------+------+------+---+-------------+--------------+------------+\n",
            "|-Index|Dosage|Dosage_Seed|Earliest_Event_Age|Economic_Status|Entrance_Age|Event1|Event2|Event3|Sex|Smoker_Status|Earliest_Event|Person_Years|\n",
            "+------+------+-----------+------------------+---------------+------------+------+------+------+---+-------------+--------------+------------+\n",
            "|     3| 0.463|     104535|            48.069|              0|      21.797|48.069|52.368|67.585|  0|            2|             1|      26.272|\n",
            "|    12|  6.15|     187013|            39.326|              1|      35.573|39.326|70.865|56.987|  0|            0|             1|       3.753|\n",
            "|    24| 0.128|     595532|            39.759|              3|      38.778|39.759|52.098|63.384|  1|            1|             1|       0.981|\n",
            "|    27| 4.485|     418443|             63.22|              6|      35.457| 63.22|78.556|77.388|  1|            1|             1|      27.763|\n",
            "|    37| 1.383|     270789|            56.029|              0|      50.778|76.887| 60.58|56.029|  1|            2|             2|        5.25|\n",
            "|    41|15.329|     455157|            34.077|              4|      19.976|34.077|52.733|60.494|  1|            2|             1|      14.101|\n",
            "|    42| 0.142|     597506|            66.789|              3|      59.194|80.556|70.705|66.789|  1|            2|             2|       7.596|\n",
            "|    48| 1.607|     926458|            45.688|              4|      44.719|62.508|45.688|73.134|  1|            0|             2|       0.968|\n",
            "|    57|  1.68|     256063|            40.144|              5|      22.364|40.144|48.488|75.386|  1|            1|             1|      17.779|\n",
            "|    67| 0.249|     309233|            66.581|              3|      59.227|81.806|68.401|66.581|  0|            1|             2|       7.354|\n",
            "|    69| 4.179|     540959|            44.406|              6|      27.275|44.406|52.703|57.142|  1|            2|             1|      17.131|\n",
            "|    72| 8.354|     650674|            22.543|              4|      18.366|  25.2|36.872|22.543|  1|            2|             2|       4.178|\n",
            "|    79| 6.251|     245620|            30.414|              2|      25.297|30.414|56.942|46.583|  0|            1|             1|       5.117|\n",
            "|    81| 0.594|     382409|            39.334|              6|      27.311|50.898|39.334|49.474|  0|            0|             2|      12.023|\n",
            "|    85| 2.713|     551356|            34.613|              1|      25.665|34.613| 47.19|66.382|  1|            1|             1|       8.948|\n",
            "|    87| 1.886|     991646|            24.693|              5|      23.991|24.693|38.717|63.784|  0|            1|             1|       0.702|\n",
            "|    90| 1.678|     346431|            44.775|              6|      34.404|44.775|47.961|76.511|  0|            0|             1|      10.371|\n",
            "|    92| 2.367|     825979|            41.428|              1|      25.427|48.588|51.332|41.428|  0|            2|             2|        16.0|\n",
            "|    99| 0.296|     365652|            51.468|              6|      50.733|66.407|51.468|76.469|  0|            1|             2|       0.735|\n",
            "|   107| 4.492|     688014|            37.448|              3|       33.38|37.448|68.495|44.691|  0|            2|             1|       4.068|\n",
            "+------+------+-----------+------------------+---------------+------------+------+------+------+---+-------------+--------------+------------+\n",
            "only showing top 20 rows\n",
            "\n",
            "+------------------+\n",
            "|Total_Person_Years|\n",
            "+------------------+\n",
            "|         24372.214|\n",
            "+------------------+\n",
            "\n"
          ]
        }
      ]
    }
  ]
}